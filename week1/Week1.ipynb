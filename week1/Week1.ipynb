{
 "cells": [
  {
   "cell_type": "markdown",
   "metadata": {
    "collapsed": true
   },
   "source": [
    "# The Python Programming Language: Functions"
   ]
  },
  {
   "cell_type": "markdown",
   "metadata": {},
   "source": [
    "## Defining Functions"
   ]
  },
  {
   "cell_type": "code",
   "execution_count": 14,
   "metadata": {
    "collapsed": false
   },
   "outputs": [
    {
     "data": {
      "text/plain": [
       "3"
      ]
     },
     "execution_count": 14,
     "metadata": {},
     "output_type": "execute_result"
    }
   ],
   "source": [
    "# Defining a function\n",
    "def add_numbers(x, y):\n",
    "    return x + y\n",
    "\n",
    "add_numbers(1,2)"
   ]
  },
  {
   "cell_type": "markdown",
   "metadata": {},
   "source": [
    "Python functions can have default values for parameters. However, all optional parameters, with default values, must come at the end of the function declaration. "
   ]
  },
  {
   "cell_type": "code",
   "execution_count": 15,
   "metadata": {
    "collapsed": false
   },
   "outputs": [
    {
     "name": "stdout",
     "output_type": "stream",
     "text": [
      "2\n",
      "6\n"
     ]
    }
   ],
   "source": [
    "def multiply_numbers(x, y, z=None):\n",
    "    if (z==None):\n",
    "        return x * y\n",
    "    else:\n",
    "        return x * y * z\n",
    "\n",
    "print(multiply_numbers(1, 2))\n",
    "print(multiply_numbers(1, 2, 3))"
   ]
  },
  {
   "cell_type": "markdown",
   "metadata": {},
   "source": [
    "In Python, we can also assign functions to variables:"
   ]
  },
  {
   "cell_type": "code",
   "execution_count": 16,
   "metadata": {
    "collapsed": false
   },
   "outputs": [
    {
     "data": {
      "text/plain": [
       "2"
      ]
     },
     "execution_count": 16,
     "metadata": {},
     "output_type": "execute_result"
    }
   ],
   "source": [
    "def subtract_numbers(x, y):\n",
    "    return x - y\n",
    "\n",
    "s = subtract_numbers\n",
    "s(4,2)"
   ]
  },
  {
   "cell_type": "markdown",
   "metadata": {
    "collapsed": true
   },
   "source": [
    "## Working With Strings"
   ]
  },
  {
   "cell_type": "code",
   "execution_count": 17,
   "metadata": {
    "collapsed": false
   },
   "outputs": [
    {
     "name": "stdout",
     "output_type": "stream",
     "text": [
      "Chico Rodriguez\n",
      "ChicoChicoChico\n",
      "True\n"
     ]
    }
   ],
   "source": [
    "firstName=\"Chico\"\n",
    "lastName=\"Rodriguez\"\n",
    "\n",
    "print(firstName + ' ' + lastName) # String concatenation\n",
    "print(firstName * 3) # Repeat a string\n",
    "print('Chico' in firstName) # Check if substring is in string"
   ]
  },
  {
   "cell_type": "code",
   "execution_count": 29,
   "metadata": {
    "collapsed": false
   },
   "outputs": [
    {
     "name": "stdout",
     "output_type": "stream",
     "text": [
      "Chico\n",
      "Rodriguez\n"
     ]
    }
   ],
   "source": [
    "# Separating substrings according to a separator\n",
    "firstName = \"Chico Miguel Eduardo de la Manteca Rodriguez\".split(' ')[0]\n",
    "lastName = \"Chico Miguel Eduardo de la Manteca Rodriguez\".split(' ')[-1]\n",
    "print(firstName)\n",
    "print(lastName)"
   ]
  },
  {
   "cell_type": "markdown",
   "metadata": {},
   "source": [
    "We can use placeholders in Python strings which can then be populated using the `format` function."
   ]
  },
  {
   "cell_type": "code",
   "execution_count": 32,
   "metadata": {
    "collapsed": false
   },
   "outputs": [
    {
     "name": "stdout",
     "output_type": "stream",
     "text": [
      "Maria bought 42 item(s) at a price of 3.14 each for a total of 131.88\n"
     ]
    }
   ],
   "source": [
    "salesRecord = {'price': 3.14, \n",
    "               'numItems': 42,\n",
    "               'person': 'Maria'\n",
    "              }\n",
    "\n",
    "salesStatement = '{} bought {} item(s) at a price of {} each for a total of {}'\n",
    "\n",
    "print(salesStatement.format(salesRecord['person'],\n",
    "                           salesRecord['numItems'],\n",
    "                           salesRecord['price'],\n",
    "                           salesRecord['numItems']*salesRecord['price']))"
   ]
  },
  {
   "cell_type": "markdown",
   "metadata": {},
   "source": [
    "## Working with Dictionaries\n",
    "Dictionaries can be thought of as unordered key:value pairs with the condition that each key is unique."
   ]
  },
  {
   "cell_type": "code",
   "execution_count": 22,
   "metadata": {
    "collapsed": false
   },
   "outputs": [
    {
     "data": {
      "text/plain": [
       "'chico.rodriguez@neolimon.org'"
      ]
     },
     "execution_count": 22,
     "metadata": {},
     "output_type": "execute_result"
    }
   ],
   "source": [
    "ourDict = {\"Chico Rodriguez\": \"chico.rodriguez@neolimon.org\", \"Miguel Cervantes\": \"m.cervantes@amazingwriters.org\"}\n",
    "ourDict['Chico Rodriguez']"
   ]
  },
  {
   "cell_type": "code",
   "execution_count": 20,
   "metadata": {
    "collapsed": false
   },
   "outputs": [
    {
     "data": {
      "text/plain": [
       "'g.marquez@amazingwriters.org'"
      ]
     },
     "execution_count": 20,
     "metadata": {},
     "output_type": "execute_result"
    }
   ],
   "source": [
    "# We can add elements to dictionary using array notation\n",
    "ourDict[\"Gabo Marquez\"] = \"g.marquez@amazingwriters.org\"\n",
    "ourDict['Gabo Marquez']"
   ]
  },
  {
   "cell_type": "code",
   "execution_count": 28,
   "metadata": {
    "collapsed": false
   },
   "outputs": [
    {
     "name": "stdout",
     "output_type": "stream",
     "text": [
      "m.cervantes@amazingwriters.org\n",
      "chico.rodriguez@neolimon.org\n",
      "m.cervantes@amazingwriters.org\n",
      "chico.rodriguez@neolimon.org\n",
      "Miguel Cervantes\n",
      "m.cervantes@amazingwriters.org\n",
      "Chico Rodriguez\n",
      "chico.rodriguez@neolimon.org\n"
     ]
    }
   ],
   "source": [
    "# We can iterate over keys and print out values\n",
    "for name in ourDict:\n",
    "    print(ourDict[name])\n",
    "\n",
    "# We can iterate over values\n",
    "for email in ourDict.values():\n",
    "    print(email)\n",
    "    \n",
    "# Finally, we can also iterate over values and keys using the items function\n",
    "for name, email in ourDict.items():\n",
    "    print(name)\n",
    "    print(email)"
   ]
  }
 ],
 "metadata": {
  "anaconda-cloud": {},
  "kernelspec": {
   "display_name": "Python [conda env:condaPy3env]",
   "language": "python",
   "name": "conda-env-condaPy3env-py"
  },
  "language_info": {
   "codemirror_mode": {
    "name": "ipython",
    "version": 3
   },
   "file_extension": ".py",
   "mimetype": "text/x-python",
   "name": "python",
   "nbconvert_exporter": "python",
   "pygments_lexer": "ipython3",
   "version": "3.5.2"
  }
 },
 "nbformat": 4,
 "nbformat_minor": 0
}
