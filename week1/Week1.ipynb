{
 "cells": [
  {
   "cell_type": "markdown",
   "metadata": {
    "collapsed": true
   },
   "source": [
    "# The Python Programming Language: Functions"
   ]
  },
  {
   "cell_type": "markdown",
   "metadata": {},
   "source": [
    "## Defining Functions"
   ]
  },
  {
   "cell_type": "code",
   "execution_count": 1,
   "metadata": {
    "collapsed": false
   },
   "outputs": [
    {
     "data": {
      "text/plain": [
       "3"
      ]
     },
     "execution_count": 1,
     "metadata": {},
     "output_type": "execute_result"
    }
   ],
   "source": [
    "# Defining a function\n",
    "def add_numbers(x, y):\n",
    "    return x + y\n",
    "\n",
    "add_numbers(1,2)"
   ]
  },
  {
   "cell_type": "markdown",
   "metadata": {},
   "source": [
    "Python functions can have default values for parameters. However, all optional parameters, with default values, must come at the end of the function declaration. "
   ]
  },
  {
   "cell_type": "code",
   "execution_count": 2,
   "metadata": {
    "collapsed": false
   },
   "outputs": [
    {
     "name": "stdout",
     "output_type": "stream",
     "text": [
      "2\n",
      "6\n"
     ]
    }
   ],
   "source": [
    "def multiply_numbers(x, y, z=None):\n",
    "    if (z==None):\n",
    "        return x * y\n",
    "    else:\n",
    "        return x * y * z\n",
    "\n",
    "print(multiply_numbers(1, 2))\n",
    "print(multiply_numbers(1, 2, 3))"
   ]
  },
  {
   "cell_type": "markdown",
   "metadata": {},
   "source": [
    "In Python, we can also assign functions to variables:"
   ]
  },
  {
   "cell_type": "code",
   "execution_count": 3,
   "metadata": {
    "collapsed": false
   },
   "outputs": [
    {
     "data": {
      "text/plain": [
       "2"
      ]
     },
     "execution_count": 3,
     "metadata": {},
     "output_type": "execute_result"
    }
   ],
   "source": [
    "def subtract_numbers(x, y):\n",
    "    return x - y\n",
    "\n",
    "s = subtract_numbers\n",
    "s(4,2)"
   ]
  },
  {
   "cell_type": "markdown",
   "metadata": {
    "collapsed": true
   },
   "source": [
    "## Working With Strings"
   ]
  },
  {
   "cell_type": "code",
   "execution_count": 4,
   "metadata": {
    "collapsed": false
   },
   "outputs": [
    {
     "name": "stdout",
     "output_type": "stream",
     "text": [
      "Chico Rodriguez\n",
      "ChicoChicoChico\n",
      "True\n"
     ]
    }
   ],
   "source": [
    "firstName=\"Chico\"\n",
    "lastName=\"Rodriguez\"\n",
    "\n",
    "print(firstName + ' ' + lastName) # String concatenation\n",
    "print(firstName * 3) # Repeat a string\n",
    "print('Chico' in firstName) # Check if substring is in string"
   ]
  },
  {
   "cell_type": "code",
   "execution_count": 5,
   "metadata": {
    "collapsed": false
   },
   "outputs": [
    {
     "name": "stdout",
     "output_type": "stream",
     "text": [
      "Chico\n",
      "Rodriguez\n"
     ]
    }
   ],
   "source": [
    "# Separating substrings according to a separator\n",
    "firstName = \"Chico Miguel Eduardo de la Manteca Rodriguez\".split(' ')[0]\n",
    "lastName = \"Chico Miguel Eduardo de la Manteca Rodriguez\".split(' ')[-1]\n",
    "print(firstName)\n",
    "print(lastName)"
   ]
  },
  {
   "cell_type": "markdown",
   "metadata": {},
   "source": [
    "We can use placeholders in Python strings which can then be populated using the `format` function."
   ]
  },
  {
   "cell_type": "code",
   "execution_count": 6,
   "metadata": {
    "collapsed": false
   },
   "outputs": [
    {
     "name": "stdout",
     "output_type": "stream",
     "text": [
      "Maria bought 42 item(s) at a price of 3.14 each for a total of 131.88\n"
     ]
    }
   ],
   "source": [
    "salesRecord = {'price': 3.14, \n",
    "               'numItems': 42,\n",
    "               'person': 'Maria'\n",
    "              }\n",
    "\n",
    "salesStatement = '{} bought {} item(s) at a price of {} each for a total of {}'\n",
    "\n",
    "print(salesStatement.format(salesRecord['person'],\n",
    "                           salesRecord['numItems'],\n",
    "                           salesRecord['price'],\n",
    "                           salesRecord['numItems']*salesRecord['price']))"
   ]
  },
  {
   "cell_type": "markdown",
   "metadata": {},
   "source": [
    "## Working with Dictionaries\n",
    "Dictionaries can be thought of as unordered key:value pairs with the condition that each key is unique."
   ]
  },
  {
   "cell_type": "code",
   "execution_count": 7,
   "metadata": {
    "collapsed": false
   },
   "outputs": [
    {
     "data": {
      "text/plain": [
       "'chico.rodriguez@neolimon.org'"
      ]
     },
     "execution_count": 7,
     "metadata": {},
     "output_type": "execute_result"
    }
   ],
   "source": [
    "ourDict = {\"Chico Rodriguez\": \"chico.rodriguez@neolimon.org\", \"Miguel Cervantes\": \"m.cervantes@amazingwriters.org\"}\n",
    "ourDict['Chico Rodriguez']"
   ]
  },
  {
   "cell_type": "code",
   "execution_count": 8,
   "metadata": {
    "collapsed": false
   },
   "outputs": [
    {
     "data": {
      "text/plain": [
       "'g.marquez@amazingwriters.org'"
      ]
     },
     "execution_count": 8,
     "metadata": {},
     "output_type": "execute_result"
    }
   ],
   "source": [
    "# We can add elements to dictionary using array notation\n",
    "ourDict[\"Gabo Marquez\"] = \"g.marquez@amazingwriters.org\"\n",
    "ourDict['Gabo Marquez']"
   ]
  },
  {
   "cell_type": "code",
   "execution_count": 9,
   "metadata": {
    "collapsed": false
   },
   "outputs": [
    {
     "name": "stdout",
     "output_type": "stream",
     "text": [
      "g.marquez@amazingwriters.org\n",
      "chico.rodriguez@neolimon.org\n",
      "m.cervantes@amazingwriters.org\n",
      "g.marquez@amazingwriters.org\n",
      "chico.rodriguez@neolimon.org\n",
      "m.cervantes@amazingwriters.org\n",
      "Gabo Marquez\n",
      "g.marquez@amazingwriters.org\n",
      "Chico Rodriguez\n",
      "chico.rodriguez@neolimon.org\n",
      "Miguel Cervantes\n",
      "m.cervantes@amazingwriters.org\n"
     ]
    }
   ],
   "source": [
    "# We can iterate over keys and print out values\n",
    "for name in ourDict:\n",
    "    print(ourDict[name])\n",
    "\n",
    "# We can iterate over values\n",
    "for email in ourDict.values():\n",
    "    print(email)\n",
    "    \n",
    "# Finally, we can also iterate over values and keys using the items function\n",
    "for name, email in ourDict.items():\n",
    "    print(name)\n",
    "    print(email)"
   ]
  },
  {
   "cell_type": "markdown",
   "metadata": {},
   "source": [
    "## Working with .csv Files"
   ]
  },
  {
   "cell_type": "code",
   "execution_count": 10,
   "metadata": {
    "collapsed": false
   },
   "outputs": [
    {
     "name": "stdout",
     "output_type": "stream",
     "text": [
      "[{'': '1', 'model': 'a4', 'class': 'compact', 'year': '1999', 'fl': 'p', 'trans': 'auto(l5)', 'manufacturer': 'audi', 'hwy': '29', 'cty': '18', 'cyl': '4', 'displ': '1.8', 'drv': 'f'}, {'': '2', 'model': 'a4', 'class': 'compact', 'year': '1999', 'fl': 'p', 'trans': 'manual(m5)', 'manufacturer': 'audi', 'hwy': '29', 'cty': '21', 'cyl': '4', 'displ': '1.8', 'drv': 'f'}]\n"
     ]
    },
    {
     "data": {
      "text/plain": [
       "dict_keys(['', 'model', 'class', 'year', 'fl', 'trans', 'manufacturer', 'hwy', 'cty', 'cyl', 'displ', 'drv'])"
      ]
     },
     "execution_count": 10,
     "metadata": {},
     "output_type": "execute_result"
    }
   ],
   "source": [
    "import csv\n",
    "\n",
    "%precision 2\n",
    "\n",
    "# Creating a list with dictionary elements for mpg\n",
    "with open('mpg.csv') as csvFile:\n",
    "    mpg = list(csv.DictReader(csvFile))\n",
    "    \n",
    "# Checking the first two elements of the list\n",
    "print(mpg[:2])\n",
    "\n",
    "# Number of elements\n",
    "len(mpg)\n",
    "\n",
    "# Looking at keys\n",
    "mpg[0].keys()"
   ]
  },
  {
   "cell_type": "markdown",
   "metadata": {},
   "source": [
    "Now, suppose that we want to find the average (arithmetic mean) city mpg across all cars in the given dataset. "
   ]
  },
  {
   "cell_type": "code",
   "execution_count": 11,
   "metadata": {
    "collapsed": false
   },
   "outputs": [
    {
     "data": {
      "text/plain": [
       "16.86"
      ]
     },
     "execution_count": 11,
     "metadata": {},
     "output_type": "execute_result"
    }
   ],
   "source": [
    "sum(float(d['cty']) for d in mpg) / len(mpg)"
   ]
  },
  {
   "cell_type": "markdown",
   "metadata": {},
   "source": [
    "Similarly, we can find the average highway mpg across all cars in the dataset:"
   ]
  },
  {
   "cell_type": "code",
   "execution_count": 12,
   "metadata": {
    "collapsed": false
   },
   "outputs": [
    {
     "data": {
      "text/plain": [
       "23.44"
      ]
     },
     "execution_count": 12,
     "metadata": {},
     "output_type": "execute_result"
    }
   ],
   "source": [
    "sum(float(d['hwy']) for d in mpg) / len(mpg)"
   ]
  },
  {
   "cell_type": "markdown",
   "metadata": {},
   "source": [
    "Now, suppose that we want to see the average city mpg grouped by the number of cylinders a car has."
   ]
  },
  {
   "cell_type": "code",
   "execution_count": 13,
   "metadata": {
    "collapsed": false
   },
   "outputs": [
    {
     "data": {
      "text/plain": [
       "{'4', '5', '6', '8'}"
      ]
     },
     "execution_count": 13,
     "metadata": {},
     "output_type": "execute_result"
    }
   ],
   "source": [
    "# Gathering unique levels for the number of cylinders\n",
    "cylinders = set(d['cyl'] for d in mpg)\n",
    "cylinders"
   ]
  },
  {
   "cell_type": "code",
   "execution_count": 14,
   "metadata": {
    "collapsed": false
   },
   "outputs": [
    {
     "name": "stdout",
     "output_type": "stream",
     "text": [
      "[('6', 16.21518987341772), ('8', 12.571428571428571), ('5', 20.5), ('4', 21.012345679012345)]\n"
     ]
    },
    {
     "data": {
      "text/plain": [
       "[('4', 21.01), ('5', 20.50), ('6', 16.22), ('8', 12.57)]"
      ]
     },
     "execution_count": 14,
     "metadata": {},
     "output_type": "execute_result"
    }
   ],
   "source": [
    "CtyMpgByCyl = [] # An empty list to store our results\n",
    "\n",
    "for c in cylinders:\n",
    "    sumMpg = 0\n",
    "    cylTypeCount = 0\n",
    "    \n",
    "    # Iterating through each dictionary element, seeking\n",
    "    # a match for the number of cylinders.\n",
    "    for d in mpg:\n",
    "        if d['cyl'] == c:\n",
    "            sumMpg += float(d['cty'])\n",
    "            cylTypeCount += 1\n",
    "            \n",
    "    # Appending the result for the current cylinder \n",
    "    # to the results list\n",
    "    CtyMpgByCyl.append((c, sumMpg / cylTypeCount))\n",
    "\n",
    "# Let's look at the results\n",
    "print(CtyMpgByCyl)\n",
    "\n",
    "# Sort and display by lowest to highest number of \n",
    "# cylinders (the 0th element)\n",
    "CtyMpgByCyl.sort(key=lambda x: x[0])\n",
    "CtyMpgByCyl"
   ]
  },
  {
   "cell_type": "markdown",
   "metadata": {},
   "source": [
    "Let's say we want to look at average highway mpg according to vechicle class. Just like in the previous example, we iterate over each vehicle class, then iterate over each dictionary."
   ]
  },
  {
   "cell_type": "code",
   "execution_count": 15,
   "metadata": {
    "collapsed": false
   },
   "outputs": [
    {
     "data": {
      "text/plain": [
       "[('pickup', 16.88),\n",
       " ('suv', 18.13),\n",
       " ('minivan', 22.36),\n",
       " ('2seater', 24.80),\n",
       " ('midsize', 27.29),\n",
       " ('subcompact', 28.14),\n",
       " ('compact', 28.30)]"
      ]
     },
     "execution_count": 15,
     "metadata": {},
     "output_type": "execute_result"
    }
   ],
   "source": [
    "vehicleClass = set(d['class'] for d in mpg)\n",
    "\n",
    "HwyMpgByClass = []\n",
    "\n",
    "for t in vehicleClass:\n",
    "    sumMpg = 0\n",
    "    vClassCount = 0\n",
    "    \n",
    "    for d in mpg:\n",
    "        if d['class'] == t:\n",
    "            sumMpg += float(d['hwy'])\n",
    "            vClassCount += 1\n",
    "            \n",
    "    HwyMpgByClass.append((t, sumMpg / vClassCount))\n",
    "\n",
    "# This time, we will sort by lowest to  highest \n",
    "# average highway mpg (element 1)\n",
    "HwyMpgByClass.sort(key=lambda x: x[1])\n",
    "HwyMpgByClass"
   ]
  },
  {
   "cell_type": "markdown",
   "metadata": {},
   "source": [
    "## Basics of Dates and Times in Python"
   ]
  },
  {
   "cell_type": "markdown",
   "metadata": {},
   "source": [
    "One of the most common legacy methods for storing date and time is based on the offset from the epoch, which is January 1, 1970. If interested, read more about it [here](https://en.wikipedia.org/wiki/Unix_time).\n",
    "\n",
    "In Python, we can get the current time since the epoch using the `time` module."
   ]
  },
  {
   "cell_type": "code",
   "execution_count": 16,
   "metadata": {
    "collapsed": false
   },
   "outputs": [],
   "source": [
    "import datetime as dt\n",
    "import time as tm"
   ]
  },
  {
   "cell_type": "code",
   "execution_count": 17,
   "metadata": {
    "collapsed": false
   },
   "outputs": [
    {
     "data": {
      "text/plain": [
       "1481263374.53"
      ]
     },
     "execution_count": 17,
     "metadata": {},
     "output_type": "execute_result"
    }
   ],
   "source": [
    "tm.time()"
   ]
  },
  {
   "cell_type": "code",
   "execution_count": 18,
   "metadata": {
    "collapsed": false
   },
   "outputs": [
    {
     "data": {
      "text/plain": [
       "datetime.datetime(2016, 12, 9, 0, 2, 54, 634584)"
      ]
     },
     "execution_count": 18,
     "metadata": {},
     "output_type": "execute_result"
    }
   ],
   "source": [
    "# This gives us the time stamp in the format:\n",
    "# (year, month, day, hour, minute, second, microsecond)\n",
    "dtNow = dt.datetime.fromtimestamp(tm.time())\n",
    "dtNow"
   ]
  },
  {
   "cell_type": "markdown",
   "metadata": {},
   "source": [
    "We can do simple operations on dates using time deltas. For examples, let us create a time delta of 100 days, then we can do subtraction and comparisons with the date time object. This is commonly used in data science, particularly in making sliding windows. "
   ]
  },
  {
   "cell_type": "code",
   "execution_count": 19,
   "metadata": {
    "collapsed": false
   },
   "outputs": [
    {
     "data": {
      "text/plain": [
       "(2016, 12, 9, 0, 2, 54)"
      ]
     },
     "execution_count": 19,
     "metadata": {},
     "output_type": "execute_result"
    }
   ],
   "source": [
    "dtNow.year, dtNow.month, dtNow.day, dtNow.hour, dtNow.minute, dtNow.second"
   ]
  },
  {
   "cell_type": "code",
   "execution_count": 20,
   "metadata": {
    "collapsed": false
   },
   "outputs": [
    {
     "data": {
      "text/plain": [
       "datetime.timedelta(100)"
      ]
     },
     "execution_count": 20,
     "metadata": {},
     "output_type": "execute_result"
    }
   ],
   "source": [
    "delta = dt.timedelta(days = 100)\n",
    "delta"
   ]
  },
  {
   "cell_type": "code",
   "execution_count": 21,
   "metadata": {
    "collapsed": true
   },
   "outputs": [],
   "source": [
    "today = dt.date.today()"
   ]
  },
  {
   "cell_type": "code",
   "execution_count": 22,
   "metadata": {
    "collapsed": false
   },
   "outputs": [
    {
     "data": {
      "text/plain": [
       "datetime.date(2016, 8, 31)"
      ]
     },
     "execution_count": 22,
     "metadata": {},
     "output_type": "execute_result"
    }
   ],
   "source": [
    "today - delta"
   ]
  },
  {
   "cell_type": "code",
   "execution_count": 23,
   "metadata": {
    "collapsed": false
   },
   "outputs": [
    {
     "data": {
      "text/plain": [
       "True"
      ]
     },
     "execution_count": 23,
     "metadata": {},
     "output_type": "execute_result"
    }
   ],
   "source": [
    "today > today - delta"
   ]
  },
  {
   "cell_type": "markdown",
   "metadata": {},
   "source": [
    "## Objects and map()"
   ]
  },
  {
   "cell_type": "markdown",
   "metadata": {},
   "source": [
    "### Objects"
   ]
  },
  {
   "cell_type": "markdown",
   "metadata": {},
   "source": [
    "In Python, we declare classes using the keyword `class`, and anything indented below is within the scope of the class. An interesting thing about Python is that we do not need to declare variables within the object, we just begin using them. However, class variables can be declared, and these are shared across all instances of the object. \n",
    "\n",
    "To define a method, we just write it as we would a function. In order to have access to the instance which a method is begin invoked upon, we must include the keyword `self` in the method signature. That is, in order to create variables which are not shared across all instances (class variables),  we must include `self`. Prepending `self.` also works for referring to instance variables set on an object. \n",
    "\n",
    "Something very important to keep in mind when programming in Python is that Python does not have access modifiers. \n",
    "\n",
    "The following is an example of a `Person` object definition and instance."
   ]
  },
  {
   "cell_type": "code",
   "execution_count": 24,
   "metadata": {
    "collapsed": false
   },
   "outputs": [
    {
     "name": "stdout",
     "output_type": "stream",
     "text": [
      "Chico Rodiguez is currently in Eivissa.\n"
     ]
    }
   ],
   "source": [
    "class Person:\n",
    "    department = 'Hand Wavy Mathematics and Physics'\n",
    "    \n",
    "    def set_name(self, new_name):\n",
    "        self.name = new_name\n",
    "    def set_location(self, new_location):\n",
    "        self.location = new_location\n",
    "        \n",
    "chico = Person()\n",
    "chico.set_name(\"Chico Rodiguez\")\n",
    "chico.set_location(\"Eivissa\")\n",
    "\n",
    "print(\"{} is currently in {}.\".format(chico.name, chico.location))"
   ]
  },
  {
   "cell_type": "markdown",
   "metadata": {},
   "source": [
    "### map() function"
   ]
  },
  {
   "cell_type": "markdown",
   "metadata": {},
   "source": [
    "The `map()` function is the basis for functional programming in Python. You can read more about `map()` [here](https://docs.python.org/3/library/functions.html#map).\n",
    "\n",
    "The documentation is as follows:\n",
    "\n",
    "---------------------------------\n",
    "\n",
    "`map(function, iterable, ...)`\n",
    "\n",
    "Return an iterator that applies function to every item of iterable, yielding the results. If additional iterable arguments are passed, function must take that many arguments and is applied to the items from all iterables in parallel. With multiple iterables, the iterator stops when the shortest iterable is exhausted. For cases where the function inputs are already arranged into argument tuples, see itertools.starmap().\n",
    "\n",
    "---------------------------------\n",
    "\n",
    "Here is an example of an application of the `map()` function: suppose we have lists of prices, of the same items, from two different stores and we want to find the minimum that we would have to pay if we bought the more inexpensive item from each store. "
   ]
  },
  {
   "cell_type": "code",
   "execution_count": 25,
   "metadata": {
    "collapsed": false
   },
   "outputs": [
    {
     "name": "stdout",
     "output_type": "stream",
     "text": [
      "<map object at 0x7fa02870a2b0>\n",
      "9.0\n",
      "11.0\n",
      "12.34\n",
      "2.01\n"
     ]
    }
   ],
   "source": [
    "store1 = [10.00, 11.00, 12.34, 2.34]\n",
    "store2 = [9.00, 11.10, 12.34, 2.01]\n",
    "\n",
    "cheapest = map(min, store1, store2)\n",
    "\n",
    "print(cheapest) # Prints memory location of map object\n",
    "\n",
    "# Print each value, we iterate over the object\n",
    "for itemPrice in cheapest:\n",
    "    print(itemPrice)"
   ]
  }
 ],
 "metadata": {
  "anaconda-cloud": {},
  "kernelspec": {
   "display_name": "Python [conda env:condaPy3env]",
   "language": "python",
   "name": "conda-env-condaPy3env-py"
  },
  "language_info": {
   "codemirror_mode": {
    "name": "ipython",
    "version": 3
   },
   "file_extension": ".py",
   "mimetype": "text/x-python",
   "name": "python",
   "nbconvert_exporter": "python",
   "pygments_lexer": "ipython3",
   "version": "3.5.2"
  }
 },
 "nbformat": 4,
 "nbformat_minor": 0
}
